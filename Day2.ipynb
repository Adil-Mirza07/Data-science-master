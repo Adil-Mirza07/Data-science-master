{
 "cells": [
  {
   "cell_type": "code",
   "execution_count": 11,
   "id": "078ba215-461b-46d4-9e42-c083c3962fed",
   "metadata": {},
   "outputs": [
    {
     "name": "stdout",
     "output_type": "stream",
     "text": [
      "My age is: 20\n"
     ]
    }
   ],
   "source": [
    "## f string\n",
    "print(f\"My age is: {age}\")"
   ]
  },
  {
   "cell_type": "code",
   "execution_count": 7,
   "id": "b60d9e7e-4081-4042-838a-b5c50c7e4e98",
   "metadata": {},
   "outputs": [
    {
     "name": "stdout",
     "output_type": "stream",
     "text": [
      "My name is Mirza and age is 20\n"
     ]
    }
   ],
   "source": [
    "## format()\n",
    "name=\"Mirza\"\n",
    "age=20\n",
    "print(\"My name is {} and age is {}\".format(name,age))"
   ]
  },
  {
   "cell_type": "code",
   "execution_count": 9,
   "id": "50d0fd50-463d-4c8e-bd42-fab22e05af85",
   "metadata": {},
   "outputs": [
    {
     "name": "stdout",
     "output_type": "stream",
     "text": [
      "My name is 20 and age is Mirza\n"
     ]
    }
   ],
   "source": [
    "name=\"Mirza\"\n",
    "age=20\n",
    "print(\"My name is {} and age is {}\".format(age,name))"
   ]
  },
  {
   "cell_type": "code",
   "execution_count": 10,
   "id": "5c553824-2a85-4344-ade9-a91c67f64c4d",
   "metadata": {},
   "outputs": [
    {
     "name": "stdout",
     "output_type": "stream",
     "text": [
      "My name is Mirza and age is 20\n"
     ]
    }
   ],
   "source": [
    "##placeholder\n",
    "print(\"My name is {firstname} and age is {firstage}\".format(firstage=age,firstname=name))"
   ]
  },
  {
   "cell_type": "code",
   "execution_count": 12,
   "id": "7a88a676-c712-41db-a218-1065246b7db4",
   "metadata": {},
   "outputs": [
    {
     "data": {
      "text/plain": [
       "' My age is 20 and i have completed: my degree of BE with the name of adil'"
      ]
     },
     "execution_count": 12,
     "metadata": {},
     "output_type": "execute_result"
    }
   ],
   "source": [
    "name=\"Adil\"\n",
    "age= 20\n",
    "degree=\"BE\"\n",
    "\n",
    "\" My age is 20 and i have completed: my degree of BE with the name of adil\""
   ]
  },
  {
   "cell_type": "code",
   "execution_count": 13,
   "id": "f0559ebf-4d3e-4fa9-87ff-059ec4a0ffbe",
   "metadata": {},
   "outputs": [
    {
     "name": "stdout",
     "output_type": "stream",
     "text": [
      "My age is 20 and i have completed: my degree 20 with the name of Adil\n"
     ]
    }
   ],
   "source": [
    "print(\"My age is {} and i have completed: my degree {} with the name of {}\".format(age,age,name))"
   ]
  },
  {
   "cell_type": "code",
   "execution_count": 14,
   "id": "29953ed2-52e7-4b0e-8269-ea7c32e08cf2",
   "metadata": {},
   "outputs": [
    {
     "name": "stdout",
     "output_type": "stream",
     "text": [
      "My age is 20 and I have completed: my degree of BE with the name of Adil\n"
     ]
    }
   ],
   "source": [
    "print(f\"My age is {age} and I have completed: my degree of {degree} with the name of {name}\")"
   ]
  },
  {
   "cell_type": "markdown",
   "id": "c87ea3ee-ff60-47bc-bce7-f7649ce0a524",
   "metadata": {},
   "source": [
    "## Control Flow\n",
    "### Decision Making statements\n",
    "    * It is kind of making desicion during occured situation of program executation and action can be taken according to specified condition.\n",
    "    * Sturcture of decision making evaluate several expression that provide True or False as a result.\n",
    "    * It is up to you to decide which type of action want to take and execute the statement based upon True and False.\n",
    "    \n",
    "    **These are several topics of decision making which going to be discussed below:**\n",
    "    1. **if**\n",
    "    2. **if else**\n",
    "    3. **if else else**\n",
    "    4. **Nested if**\n",
    "    5. **Single Statement Suites**\n"
   ]
  },
  {
   "cell_type": "code",
   "execution_count": 6,
   "id": "0e111d7c-f811-4f47-9f46-e6b6a0004a2b",
   "metadata": {},
   "outputs": [
    {
     "name": "stdout",
     "output_type": "stream",
     "text": [
      "You are eligible tp vote\n"
     ]
    }
   ],
   "source": [
    "## if statement\n",
    "age=18\n",
    "if age>=18:\n",
    "    print(\"You are eligible tp vote\") "
   ]
  },
  {
   "cell_type": "code",
   "execution_count": 17,
   "id": "d1c9267a-38f9-499f-89e3-adfa614a6886",
   "metadata": {},
   "outputs": [],
   "source": [
    "## if statement\n",
    "age=18\n",
    "if age<18:\n",
    "    print(\"You are not eligible tp vote\")"
   ]
  },
  {
   "cell_type": "code",
   "execution_count": 14,
   "id": "a4992383-2d94-4510-9570-2324d8c6d640",
   "metadata": {},
   "outputs": [
    {
     "data": {
      "text/plain": [
       "True"
      ]
     },
     "execution_count": 14,
     "metadata": {},
     "output_type": "execute_result"
    }
   ],
   "source": [
    "18<=18"
   ]
  },
  {
   "cell_type": "code",
   "execution_count": 22,
   "id": "320ef50e-b690-4ea0-9f23-96c916e8bd07",
   "metadata": {},
   "outputs": [
    {
     "name": "stdin",
     "output_type": "stream",
     "text": [
      "Enter the name Adil mirza\n"
     ]
    }
   ],
   "source": [
    "name=input(\"Enter the name\")"
   ]
  },
  {
   "cell_type": "code",
   "execution_count": 23,
   "id": "cce1dbaf-d98e-42be-91fa-9b98c49fad61",
   "metadata": {},
   "outputs": [
    {
     "name": "stdin",
     "output_type": "stream",
     "text": [
      "Enter your age 21\n"
     ]
    }
   ],
   "source": [
    "age=int(input(\"Enter your age\"))"
   ]
  },
  {
   "cell_type": "code",
   "execution_count": 21,
   "id": "9bc87003-9237-4b0c-9618-b09ab0a91fff",
   "metadata": {},
   "outputs": [
    {
     "data": {
      "text/plain": [
       "int"
      ]
     },
     "execution_count": 21,
     "metadata": {},
     "output_type": "execute_result"
    }
   ],
   "source": [
    "type(age)"
   ]
  },
  {
   "cell_type": "code",
   "execution_count": 26,
   "id": "623d5e64-172d-418e-be59-c54fd74adae3",
   "metadata": {},
   "outputs": [
    {
     "name": "stdin",
     "output_type": "stream",
     "text": [
      "Enter the age 22\n"
     ]
    },
    {
     "name": "stdout",
     "output_type": "stream",
     "text": [
      "You are young blood\n"
     ]
    }
   ],
   "source": [
    "## Task\n",
    "age=int(input(\"Enter the age\"))\n",
    "if age>=18 and age<=45:\n",
    "    print(\"You are young blood\")\n",
    "    "
   ]
  },
  {
   "cell_type": "code",
   "execution_count": 28,
   "id": "34eeecbe-efef-4cc2-aff2-e27fa1eb479a",
   "metadata": {},
   "outputs": [
    {
     "name": "stdin",
     "output_type": "stream",
     "text": [
      "Enter the age 17\n"
     ]
    },
    {
     "name": "stdout",
     "output_type": "stream",
     "text": [
      "Thanlk you your application is rejected\n"
     ]
    }
   ],
   "source": [
    "## if else statements\n",
    "age=int(input(\"Enter the age\"))\n",
    "if age>=18 and age<=45:\n",
    "    print(\"You are young blood\")\n",
    "else:\n",
    "        print(\"Thanlk you your application is rejected\")\n",
    "    "
   ]
  },
  {
   "cell_type": "code",
   "execution_count": 32,
   "id": "0cbb847f-42c4-4440-b274-958fee287b90",
   "metadata": {},
   "outputs": [
    {
     "name": "stdin",
     "output_type": "stream",
     "text": [
      "Enter the price 4000\n"
     ]
    },
    {
     "name": "stdout",
     "output_type": "stream",
     "text": [
      "The price of the product is 3200.0\n"
     ]
    }
   ],
   "source": [
    "product_price=int(input(\"Enter the price\"))\n",
    "if product_price>1000:\n",
    "    print(\"The price of the product is {}\".format(product_price*0.8))\n",
    "else:\n",
    "    print(\"The price of the product is {}\".format(product_price*0.7))"
   ]
  },
  {
   "cell_type": "code",
   "execution_count": null,
   "id": "419ab419-f9e0-4d8c-915c-15a714cb0a85",
   "metadata": {},
   "outputs": [],
   "source": [
    "## mall - input the product price\n",
    "## product >3000 rs 20% off \n",
    "## print the product price after removing the discount\n",
    "## product >=2000 rs and <=3000 30% off\n",
    "## print the product price after the removing the discount\n",
    "## product <=1000 rs and <=2000 40% off\n",
    "## print the product price after removing the discount"
   ]
  },
  {
   "cell_type": "code",
   "execution_count": 41,
   "id": "a98105ce-6fd9-40b6-9fa6-795a04770182",
   "metadata": {},
   "outputs": [
    {
     "name": "stdin",
     "output_type": "stream",
     "text": [
      "Enter the price 5000\n"
     ]
    },
    {
     "name": "stdout",
     "output_type": "stream",
     "text": [
      "The price of the product is 4000.0\n"
     ]
    }
   ],
   "source": [
    "product_price=int(input(\"Enter the price\"))\n",
    "if product_price>3000:\n",
    "    print(\"The price of the product is {}\".format(product_price*0.8))\n",
    "elif product_price>=2000 and product_price<=3000:\n",
    "     print(\"The price of the product is {}\".format(product_price*0.7))\n",
    "else:\n",
    "    print(\"The price of the product is {}\".format(product_price*0.6))"
   ]
  },
  {
   "cell_type": "code",
   "execution_count": 42,
   "id": "f4c10fee-6893-4f81-998f-bb8d77fd8600",
   "metadata": {},
   "outputs": [
    {
     "name": "stdin",
     "output_type": "stream",
     "text": [
      "Enter the price 50\n"
     ]
    },
    {
     "name": "stdout",
     "output_type": "stream",
     "text": [
      "Lets drink tea\n"
     ]
    }
   ],
   "source": [
    "product_price=int(input(\"Enter the price\"))\n",
    "if product_price>3000:\n",
    "    print(\"The price of the product is {}\".format(product_price*0.8))\n",
    "elif product_price>=2000 and product_price<=3000:\n",
    "     print(\"The price of the product is {}\".format(product_price*0.7))\n",
    "elif product_price>=100 and product_price<=2000:\n",
    "    print(\"The price of the product is {}\".format(product_price*0.6))\n",
    "else:\n",
    "    print(\"Lets drink tea\")"
   ]
  },
  {
   "cell_type": "code",
   "execution_count": 1,
   "id": "87c1f6ab-949e-405c-a050-d3ef2eab207c",
   "metadata": {},
   "outputs": [
    {
     "name": "stdin",
     "output_type": "stream",
     "text": [
      "Enter the number 500\n"
     ]
    },
    {
     "name": "stdout",
     "output_type": "stream",
     "text": [
      "Value is less than equal to 999\n"
     ]
    }
   ],
   "source": [
    "## Single statement Suites\n",
    "val=int(input(\"Enter the number\"))\n",
    "if(val<=999):print(\"Value is less than equal to 999\")"
   ]
  },
  {
   "cell_type": "markdown",
   "id": "c507b365-8722-40ae-8e38-5c1abf35ee76",
   "metadata": {},
   "source": [
    "## Loopa statement\n",
    "1. while loop\n",
    "2. for loop\n",
    "3. nested loops\n",
    "4. loop control(break,continue,pass)"
   ]
  },
  {
   "cell_type": "code",
   "execution_count": 2,
   "id": "cf5310b6-9ba0-4d44-8788-7a83dfdc80ea",
   "metadata": {},
   "outputs": [
    {
     "name": "stdout",
     "output_type": "stream",
     "text": [
      "26\n",
      "27\n",
      "28\n",
      "29\n",
      "30\n",
      "31\n",
      "32\n",
      "33\n",
      "34\n",
      "35\n",
      "36\n",
      "37\n",
      "38\n",
      "39\n",
      "40\n",
      "41\n",
      "42\n",
      "43\n",
      "44\n",
      "45\n",
      "46\n",
      "47\n",
      "48\n",
      "49\n",
      "50\n",
      "51\n",
      "52\n",
      "53\n",
      "54\n",
      "55\n",
      "56\n",
      "57\n",
      "58\n",
      "59\n",
      "60\n",
      "61\n",
      "Its time for retirement\n"
     ]
    }
   ],
   "source": [
    "# while loop while-else\n",
    "joining_age=25\n",
    "while joining_age<=60:\n",
    "    joining_age=joining_age+1\n",
    "    print(joining_age)\n",
    "else:\n",
    "    print(\"Its time for retirement\")"
   ]
  },
  {
   "cell_type": "code",
   "execution_count": 5,
   "id": "643835de-4fb6-4b6d-9ad6-c260223c615e",
   "metadata": {},
   "outputs": [
    {
     "name": "stdout",
     "output_type": "stream",
     "text": [
      "1000\n",
      "900\n",
      "800\n",
      "700\n",
      "600\n",
      "500\n",
      "400\n",
      "300\n",
      "200\n",
      "100\n",
      "Put more money bank people\n"
     ]
    }
   ],
   "source": [
    "### ATM machine with 1000 rs\n",
    "total_amount=1000\n",
    "while total_amount!=0:\n",
    "    print(total_amount)\n",
    "    total_amount=total_amount-100\n",
    "else:\n",
    "    print(\"Put more money bank people\")"
   ]
  },
  {
   "cell_type": "markdown",
   "id": "a63f5e97-b5b6-49d2-baf2-6a7117795773",
   "metadata": {},
   "source": [
    "## For loop"
   ]
  },
  {
   "cell_type": "code",
   "execution_count": null,
   "id": "b319caa4-d42c-4ad3-8b1e-3ec22638ad17",
   "metadata": {},
   "outputs": [],
   "source": [
    "lst=[\"Mirza\",1,2,3,4,\"apple\",\"banana\"]"
   ]
  },
  {
   "cell_type": "code",
   "execution_count": 17,
   "id": "d4f9c2bd-2d54-4ee5-aad9-0b11e5f503c5",
   "metadata": {},
   "outputs": [
    {
     "data": {
      "text/plain": [
       "type"
      ]
     },
     "execution_count": 17,
     "metadata": {},
     "output_type": "execute_result"
    }
   ],
   "source": [
    "type(list)"
   ]
  },
  {
   "cell_type": "code",
   "execution_count": 18,
   "id": "6f25f47e-4fd1-4329-b6b5-9ccd8bc11f97",
   "metadata": {},
   "outputs": [
    {
     "data": {
      "text/plain": [
       "list[4]"
      ]
     },
     "execution_count": 18,
     "metadata": {},
     "output_type": "execute_result"
    }
   ],
   "source": [
    "list[4]"
   ]
  },
  {
   "cell_type": "code",
   "execution_count": 19,
   "id": "046b6e03-f71a-4740-bbb0-618a84d61f65",
   "metadata": {},
   "outputs": [
    {
     "data": {
      "text/plain": [
       "list"
      ]
     },
     "execution_count": 19,
     "metadata": {},
     "output_type": "execute_result"
    }
   ],
   "source": [
    "list"
   ]
  },
  {
   "cell_type": "code",
   "execution_count": 21,
   "id": "fa4a3a75-460a-41c9-953c-22a368db7cbd",
   "metadata": {},
   "outputs": [
    {
     "ename": "NameError",
     "evalue": "name 'lst' is not defined",
     "output_type": "error",
     "traceback": [
      "\u001b[0;31m---------------------------------------------------------------------------\u001b[0m",
      "\u001b[0;31mNameError\u001b[0m                                 Traceback (most recent call last)",
      "Cell \u001b[0;32mIn[21], line 1\u001b[0m\n\u001b[0;32m----> 1\u001b[0m \u001b[38;5;28;01mfor\u001b[39;00m x \u001b[38;5;129;01min\u001b[39;00m \u001b[43mlst\u001b[49m:\n\u001b[1;32m      2\u001b[0m     \u001b[38;5;28mprint\u001b[39m(x)\n",
      "\u001b[0;31mNameError\u001b[0m: name 'lst' is not defined"
     ]
    }
   ],
   "source": [
    "for x in lst:\n",
    "    print(x)"
   ]
  },
  {
   "cell_type": "code",
   "execution_count": null,
   "id": "bdc8444a-206d-4f34-ad22-d18fb51f3a39",
   "metadata": {},
   "outputs": [],
   "source": [
    "fruits_list = [\"Mango\",\"Cherry\",\"Apple\",\"Papaya\",\"Banana\"]"
   ]
  },
  {
   "cell_type": "code",
   "execution_count": 3,
   "id": "8f91a997-142c-4957-89a3-9beb99ce33c7",
   "metadata": {},
   "outputs": [
    {
     "ename": "NameError",
     "evalue": "name 'fruit_list' is not defined",
     "output_type": "error",
     "traceback": [
      "\u001b[0;31m---------------------------------------------------------------------------\u001b[0m",
      "\u001b[0;31mNameError\u001b[0m                                 Traceback (most recent call last)",
      "Cell \u001b[0;32mIn[3], line 1\u001b[0m\n\u001b[0;32m----> 1\u001b[0m \u001b[38;5;28;01mfor\u001b[39;00m a \u001b[38;5;129;01min\u001b[39;00m \u001b[43mfruit_list\u001b[49m:\n\u001b[1;32m      2\u001b[0m     \u001b[38;5;28mprint\u001b[39m(a)\n\u001b[1;32m      3\u001b[0m     \u001b[38;5;28;01mif\u001b[39;00m a\u001b[38;5;241m==\u001b[39m\u001b[38;5;124m\"\u001b[39m\u001b[38;5;124mCheery\u001b[39m\u001b[38;5;124m\"\u001b[39m: \n",
      "\u001b[0;31mNameError\u001b[0m: name 'fruit_list' is not defined"
     ]
    }
   ],
   "source": [
    "for a in fruits_list:\n",
    "    print(a)\n",
    "    if a==\"Cheery\": \n",
    "        print(\"The fruit is cheery\")"
   ]
  },
  {
   "cell_type": "code",
   "execution_count": 4,
   "id": "673c1224-2001-46ca-b74c-891dde799e84",
   "metadata": {},
   "outputs": [
    {
     "name": "stdout",
     "output_type": "stream",
     "text": [
      "m\n",
      "a\n",
      "n\n",
      "g\n",
      "o\n"
     ]
    }
   ],
   "source": [
    "fruit='mango'\n",
    "for x in fruit:\n",
    "    print(x)"
   ]
  },
  {
   "cell_type": "code",
   "execution_count": 5,
   "id": "9800e193-ef26-4703-a050-c78f18c4739f",
   "metadata": {},
   "outputs": [
    {
     "name": "stdout",
     "output_type": "stream",
     "text": [
      "mango"
     ]
    }
   ],
   "source": [
    "fruit='mango'\n",
    "for x in fruit:\n",
    "    print(x,end='')"
   ]
  },
  {
   "cell_type": "code",
   "execution_count": 6,
   "id": "4ea47ca8-7269-4917-875a-7d2548525553",
   "metadata": {},
   "outputs": [
    {
     "data": {
      "text/plain": [
       "'n'"
      ]
     },
     "execution_count": 6,
     "metadata": {},
     "output_type": "execute_result"
    }
   ],
   "source": [
    "fruit[2]"
   ]
  },
  {
   "cell_type": "code",
   "execution_count": null,
   "id": "96ba551c-6a72-4493-93e8-216ddde07021",
   "metadata": {},
   "outputs": [],
   "source": [
    "## Nested loops\n",
    "n=7\n"
   ]
  },
  {
   "cell_type": "code",
   "execution_count": 11,
   "id": "6976af71-0ea0-42e3-aed2-4e52f7b5d472",
   "metadata": {},
   "outputs": [
    {
     "name": "stdout",
     "output_type": "stream",
     "text": [
      "1\n",
      "2\n",
      "3\n",
      "4\n",
      "5\n",
      "6\n",
      "7\n",
      "8\n",
      "9\n"
     ]
    }
   ],
   "source": [
    "for i in range(1,10):\n",
    "    print(i)"
   ]
  },
  {
   "cell_type": "code",
   "execution_count": 12,
   "id": "c168983e-fe5e-4f1c-9bee-6279813cc7a7",
   "metadata": {},
   "outputs": [
    {
     "name": "stdout",
     "output_type": "stream",
     "text": [
      "1\n",
      "3\n",
      "5\n",
      "7\n",
      "9\n"
     ]
    }
   ],
   "source": [
    "for i in range(1,10,2):\n",
    "    print(i)"
   ]
  },
  {
   "cell_type": "code",
   "execution_count": 16,
   "id": "1781ef4b-44dc-4165-88e0-08ba8b87ddcc",
   "metadata": {},
   "outputs": [
    {
     "name": "stdout",
     "output_type": "stream",
     "text": [
      "*\n",
      "**\n",
      "***\n",
      "****\n",
      "*****\n",
      "******\n",
      "*******\n"
     ]
    }
   ],
   "source": [
    "## Nested loops\n",
    "n=7\n",
    "\n",
    "for i in range(0,n):\n",
    "    for j in range(0,i+1):\n",
    "        print(\"*\",end=\"\")\n",
    "    print(\"\\r\")"
   ]
  },
  {
   "cell_type": "code",
   "execution_count": null,
   "id": "b185f479-36e3-4fdf-9941-fdf2f7768772",
   "metadata": {},
   "outputs": [],
   "source": [
    "## loop controls\n",
    "## Break and continue\n",
    "fruits_list = [\"Mamgo\", \"Cherry\", \"Apple\", \"Papaya\", \"Banana\"]\n"
   ]
  },
  {
   "cell_type": "code",
   "execution_count": 19,
   "id": "25f79d67-13b3-4bdd-a4ea-87f3882f8c82",
   "metadata": {},
   "outputs": [
    {
     "ename": "NameError",
     "evalue": "name 'fruits_list' is not defined",
     "output_type": "error",
     "traceback": [
      "\u001b[0;31m---------------------------------------------------------------------------\u001b[0m",
      "\u001b[0;31mNameError\u001b[0m                                 Traceback (most recent call last)",
      "Cell \u001b[0;32mIn[19], line 1\u001b[0m\n\u001b[0;32m----> 1\u001b[0m \u001b[38;5;28;01mfor\u001b[39;00m i \u001b[38;5;129;01min\u001b[39;00m \u001b[43mfruits_list\u001b[49m:\n\u001b[1;32m      2\u001b[0m     \u001b[38;5;28;01mif\u001b[39;00m i\u001b[38;5;241m==\u001b[39m\u001b[38;5;124m\"\u001b[39m\u001b[38;5;124mApple\u001b[39m\u001b[38;5;124m\"\u001b[39m:\n\u001b[1;32m      3\u001b[0m         \u001b[38;5;28mprint\u001b[39m(\u001b[38;5;124m\"\u001b[39m\u001b[38;5;124mThe fruits is apple\u001b[39m\u001b[38;5;124m\"\u001b[39m)\n",
      "\u001b[0;31mNameError\u001b[0m: name 'fruits_list' is not defined"
     ]
    }
   ],
   "source": [
    "for i in fruits_list:\n",
    "    if i==\"Apple\":\n",
    "        print(\"The fruits is apple\")\n",
    "        break\n",
    "    print(i)"
   ]
  },
  {
   "cell_type": "code",
   "execution_count": 20,
   "id": "38f5bf2f-df6f-445c-964d-2007d8d2005e",
   "metadata": {},
   "outputs": [
    {
     "ename": "NameError",
     "evalue": "name 'fruits_list' is not defined",
     "output_type": "error",
     "traceback": [
      "\u001b[0;31m---------------------------------------------------------------------------\u001b[0m",
      "\u001b[0;31mNameError\u001b[0m                                 Traceback (most recent call last)",
      "Cell \u001b[0;32mIn[20], line 1\u001b[0m\n\u001b[0;32m----> 1\u001b[0m \u001b[38;5;28;01mfor\u001b[39;00m i \u001b[38;5;129;01min\u001b[39;00m \u001b[43mfruits_list\u001b[49m:\n\u001b[1;32m      2\u001b[0m     \u001b[38;5;28;01mif\u001b[39;00m i\u001b[38;5;241m==\u001b[39m\u001b[38;5;124m\"\u001b[39m\u001b[38;5;124mApple\u001b[39m\u001b[38;5;124m\"\u001b[39m:\n\u001b[1;32m      3\u001b[0m         \u001b[38;5;28mprint\u001b[39m(\u001b[38;5;124m\"\u001b[39m\u001b[38;5;124mThe fruits is apple\u001b[39m\u001b[38;5;124m\"\u001b[39m)\n",
      "\u001b[0;31mNameError\u001b[0m: name 'fruits_list' is not defined"
     ]
    }
   ],
   "source": [
    "for i in fruits_list:\n",
    "    if i==\"Apple\":\n",
    "        print(\"The fruits is apple\")\n",
    "        pass\n",
    "    print(i)"
   ]
  },
  {
   "cell_type": "code",
   "execution_count": 21,
   "id": "8a82ced0-68cb-4557-800f-5523f871ab95",
   "metadata": {},
   "outputs": [
    {
     "ename": "NameError",
     "evalue": "name 'fruits_list' is not defined",
     "output_type": "error",
     "traceback": [
      "\u001b[0;31m---------------------------------------------------------------------------\u001b[0m",
      "\u001b[0;31mNameError\u001b[0m                                 Traceback (most recent call last)",
      "Cell \u001b[0;32mIn[21], line 1\u001b[0m\n\u001b[0;32m----> 1\u001b[0m \u001b[38;5;28;01mfor\u001b[39;00m i \u001b[38;5;129;01min\u001b[39;00m \u001b[43mfruits_list\u001b[49m:\n\u001b[1;32m      2\u001b[0m     \u001b[38;5;28;01mif\u001b[39;00m i\u001b[38;5;241m==\u001b[39m\u001b[38;5;124m\"\u001b[39m\u001b[38;5;124mApple\u001b[39m\u001b[38;5;124m\"\u001b[39m:\n\u001b[1;32m      3\u001b[0m         \u001b[38;5;28mprint\u001b[39m(\u001b[38;5;124m\"\u001b[39m\u001b[38;5;124mThe fruits is apple\u001b[39m\u001b[38;5;124m\"\u001b[39m)\n",
      "\u001b[0;31mNameError\u001b[0m: name 'fruits_list' is not defined"
     ]
    }
   ],
   "source": [
    "for i in fruits_list:\n",
    "    if i==\"Apple\":\n",
    "        print(\"The fruits is apple\")\n",
    "        continue\n",
    "    print(i)"
   ]
  },
  {
   "cell_type": "code",
   "execution_count": null,
   "id": "9b0217a2-2697-4dfd-9975-3415dcb6b003",
   "metadata": {},
   "outputs": [],
   "source": []
  },
  {
   "cell_type": "code",
   "execution_count": null,
   "id": "65e63528-f281-428e-8e3c-81047567fab1",
   "metadata": {},
   "outputs": [],
   "source": []
  },
  {
   "cell_type": "code",
   "execution_count": null,
   "id": "fd3acffc-2fdd-4883-addd-6ceab18875de",
   "metadata": {},
   "outputs": [],
   "source": []
  },
  {
   "cell_type": "code",
   "execution_count": null,
   "id": "c07babaa-05a1-43e8-a852-fa55b2000efa",
   "metadata": {},
   "outputs": [],
   "source": []
  },
  {
   "cell_type": "code",
   "execution_count": null,
   "id": "97d30f95-f4e0-4c1e-9c3a-d1bf8d197f1f",
   "metadata": {},
   "outputs": [],
   "source": []
  }
 ],
 "metadata": {
  "kernelspec": {
   "display_name": "Python 3 (ipykernel)",
   "language": "python",
   "name": "python3"
  },
  "language_info": {
   "codemirror_mode": {
    "name": "ipython",
    "version": 3
   },
   "file_extension": ".py",
   "mimetype": "text/x-python",
   "name": "python",
   "nbconvert_exporter": "python",
   "pygments_lexer": "ipython3",
   "version": "3.10.8"
  }
 },
 "nbformat": 4,
 "nbformat_minor": 5
}
